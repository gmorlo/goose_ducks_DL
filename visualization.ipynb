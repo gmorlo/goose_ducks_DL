{
 "cells": [
  {
   "cell_type": "code",
   "execution_count": 2,
   "metadata": {},
   "outputs": [],
   "source": [
    "import torch\n",
    "from torch import nn\n",
    "\n",
    "device = \"cuda\" if torch.cuda.is_available() else \"cpu\"\n"
   ]
  },
  {
   "cell_type": "code",
   "execution_count": 1,
   "metadata": {},
   "outputs": [
    {
     "name": "stdout",
     "output_type": "stream",
     "text": [
      "data directory exists.\n",
      "data\\zip directory exists.\n",
      "data\\zip\\gd_dataset directory exists.\n",
      "data\\zip\\gd_dataset\\train directory exists.\n",
      "data\\zip\\gd_dataset\\test directory exists.\n",
      "Did not find data\\zip\\gd_dataset\\train\\duck, creating one...\n",
      "data\\zip\\gd_dataset\\train\\duck directory exists.\n",
      "data\\zip\\gd_dataset\\train\\duck directory exists.\n",
      "data\\zip\\gd_dataset\\train\\duck directory exists.\n",
      "data\\zip\\gd_dataset\\train\\duck directory exists.\n",
      "data\\zip\\gd_dataset\\train\\duck directory exists.\n",
      "data\\zip\\gd_dataset\\train\\duck directory exists.\n",
      "data\\zip\\gd_dataset\\train\\duck directory exists.\n",
      "data\\zip\\gd_dataset\\train\\duck directory exists.\n",
      "data\\zip\\gd_dataset\\train\\duck directory exists.\n",
      "data\\zip\\gd_dataset\\train\\duck directory exists.\n",
      "data\\zip\\gd_dataset\\train\\duck directory exists.\n",
      "data\\zip\\gd_dataset\\train\\duck directory exists.\n",
      "data\\zip\\gd_dataset\\train\\duck directory exists.\n",
      "data\\zip\\gd_dataset\\train\\duck directory exists.\n",
      "data\\zip\\gd_dataset\\train\\duck directory exists.\n",
      "data\\zip\\gd_dataset\\train\\duck directory exists.\n",
      "data\\zip\\gd_dataset\\train\\duck directory exists.\n",
      "data\\zip\\gd_dataset\\train\\duck directory exists.\n",
      "data\\zip\\gd_dataset\\train\\duck directory exists.\n",
      "data\\zip\\gd_dataset\\train\\duck directory exists.\n",
      "data\\zip\\gd_dataset\\train\\duck directory exists.\n",
      "data\\zip\\gd_dataset\\train\\duck directory exists.\n",
      "data\\zip\\gd_dataset\\train\\duck directory exists.\n",
      "data\\zip\\gd_dataset\\train\\duck directory exists.\n",
      "data\\zip\\gd_dataset\\train\\duck directory exists.\n",
      "data\\zip\\gd_dataset\\train\\duck directory exists.\n",
      "data\\zip\\gd_dataset\\train\\duck directory exists.\n",
      "data\\zip\\gd_dataset\\train\\duck directory exists.\n",
      "data\\zip\\gd_dataset\\train\\duck directory exists.\n",
      "data\\zip\\gd_dataset\\train\\duck directory exists.\n",
      "data\\zip\\gd_dataset\\train\\duck directory exists.\n",
      "data\\zip\\gd_dataset\\train\\duck directory exists.\n",
      "data\\zip\\gd_dataset\\train\\duck directory exists.\n",
      "data\\zip\\gd_dataset\\train\\duck directory exists.\n",
      "data\\zip\\gd_dataset\\train\\duck directory exists.\n",
      "data\\zip\\gd_dataset\\train\\duck directory exists.\n",
      "data\\zip\\gd_dataset\\train\\duck directory exists.\n",
      "data\\zip\\gd_dataset\\train\\duck directory exists.\n",
      "data\\zip\\gd_dataset\\train\\duck directory exists.\n",
      "data\\zip\\gd_dataset\\train\\duck directory exists.\n",
      "data\\zip\\gd_dataset\\train\\duck directory exists.\n",
      "data\\zip\\gd_dataset\\train\\duck directory exists.\n",
      "data\\zip\\gd_dataset\\train\\duck directory exists.\n",
      "data\\zip\\gd_dataset\\train\\duck directory exists.\n",
      "data\\zip\\gd_dataset\\train\\duck directory exists.\n",
      "data\\zip\\gd_dataset\\train\\duck directory exists.\n",
      "data\\zip\\gd_dataset\\train\\duck directory exists.\n",
      "data\\zip\\gd_dataset\\train\\duck directory exists.\n",
      "data\\zip\\gd_dataset\\train\\duck directory exists.\n",
      "data\\zip\\gd_dataset\\train\\duck directory exists.\n",
      "data\\zip\\gd_dataset\\train\\duck directory exists.\n",
      "data\\zip\\gd_dataset\\train\\duck directory exists.\n",
      "data\\zip\\gd_dataset\\train\\duck directory exists.\n",
      "data\\zip\\gd_dataset\\train\\duck directory exists.\n",
      "data\\zip\\gd_dataset\\train\\duck directory exists.\n",
      "data\\zip\\gd_dataset\\train\\duck directory exists.\n",
      "data\\zip\\gd_dataset\\train\\duck directory exists.\n",
      "data\\zip\\gd_dataset\\train\\duck directory exists.\n",
      "data\\zip\\gd_dataset\\train\\duck directory exists.\n",
      "data\\zip\\gd_dataset\\train\\duck directory exists.\n",
      "data\\zip\\gd_dataset\\train\\duck directory exists.\n",
      "data\\zip\\gd_dataset\\train\\duck directory exists.\n",
      "data\\zip\\gd_dataset\\train\\duck directory exists.\n",
      "data\\zip\\gd_dataset\\train\\duck directory exists.\n",
      "data\\zip\\gd_dataset\\train\\duck directory exists.\n",
      "data\\zip\\gd_dataset\\train\\duck directory exists.\n",
      "data\\zip\\gd_dataset\\train\\duck directory exists.\n",
      "data\\zip\\gd_dataset\\train\\duck directory exists.\n",
      "data\\zip\\gd_dataset\\train\\duck directory exists.\n",
      "data\\zip\\gd_dataset\\train\\duck directory exists.\n",
      "data\\zip\\gd_dataset\\train\\duck directory exists.\n",
      "data\\zip\\gd_dataset\\train\\duck directory exists.\n",
      "data\\zip\\gd_dataset\\train\\duck directory exists.\n",
      "data\\zip\\gd_dataset\\train\\duck directory exists.\n",
      "data\\zip\\gd_dataset\\train\\duck directory exists.\n",
      "data\\zip\\gd_dataset\\train\\duck directory exists.\n",
      "data\\zip\\gd_dataset\\train\\duck directory exists.\n",
      "data\\zip\\gd_dataset\\train\\duck directory exists.\n",
      "data\\zip\\gd_dataset\\train\\duck directory exists.\n",
      "Did not find data\\zip\\gd_dataset\\test\\duck, creating one...\n",
      "data\\zip\\gd_dataset\\test\\duck directory exists.\n",
      "data\\zip\\gd_dataset\\test\\duck directory exists.\n",
      "data\\zip\\gd_dataset\\test\\duck directory exists.\n",
      "data\\zip\\gd_dataset\\test\\duck directory exists.\n",
      "data\\zip\\gd_dataset\\test\\duck directory exists.\n",
      "data\\zip\\gd_dataset\\test\\duck directory exists.\n",
      "data\\zip\\gd_dataset\\test\\duck directory exists.\n",
      "data\\zip\\gd_dataset\\test\\duck directory exists.\n",
      "data\\zip\\gd_dataset\\test\\duck directory exists.\n",
      "data\\zip\\gd_dataset\\test\\duck directory exists.\n",
      "data\\zip\\gd_dataset\\test\\duck directory exists.\n",
      "data\\zip\\gd_dataset\\test\\duck directory exists.\n",
      "data\\zip\\gd_dataset\\test\\duck directory exists.\n",
      "data\\zip\\gd_dataset\\test\\duck directory exists.\n",
      "data\\zip\\gd_dataset\\test\\duck directory exists.\n",
      "data\\zip\\gd_dataset\\test\\duck directory exists.\n",
      "data\\zip\\gd_dataset\\test\\duck directory exists.\n",
      "data\\zip\\gd_dataset\\test\\duck directory exists.\n",
      "data\\zip\\gd_dataset\\test\\duck directory exists.\n",
      "Did not find data\\zip\\gd_dataset\\train\\goose, creating one...\n",
      "data\\zip\\gd_dataset\\train\\goose directory exists.\n",
      "data\\zip\\gd_dataset\\train\\goose directory exists.\n",
      "data\\zip\\gd_dataset\\train\\goose directory exists.\n",
      "data\\zip\\gd_dataset\\train\\goose directory exists.\n",
      "data\\zip\\gd_dataset\\train\\goose directory exists.\n",
      "data\\zip\\gd_dataset\\train\\goose directory exists.\n",
      "data\\zip\\gd_dataset\\train\\goose directory exists.\n",
      "data\\zip\\gd_dataset\\train\\goose directory exists.\n",
      "data\\zip\\gd_dataset\\train\\goose directory exists.\n",
      "data\\zip\\gd_dataset\\train\\goose directory exists.\n",
      "data\\zip\\gd_dataset\\train\\goose directory exists.\n",
      "data\\zip\\gd_dataset\\train\\goose directory exists.\n",
      "data\\zip\\gd_dataset\\train\\goose directory exists.\n",
      "data\\zip\\gd_dataset\\train\\goose directory exists.\n",
      "data\\zip\\gd_dataset\\train\\goose directory exists.\n",
      "data\\zip\\gd_dataset\\train\\goose directory exists.\n",
      "data\\zip\\gd_dataset\\train\\goose directory exists.\n",
      "data\\zip\\gd_dataset\\train\\goose directory exists.\n",
      "data\\zip\\gd_dataset\\train\\goose directory exists.\n",
      "data\\zip\\gd_dataset\\train\\goose directory exists.\n",
      "data\\zip\\gd_dataset\\train\\goose directory exists.\n",
      "data\\zip\\gd_dataset\\train\\goose directory exists.\n",
      "data\\zip\\gd_dataset\\train\\goose directory exists.\n",
      "data\\zip\\gd_dataset\\train\\goose directory exists.\n",
      "data\\zip\\gd_dataset\\train\\goose directory exists.\n",
      "data\\zip\\gd_dataset\\train\\goose directory exists.\n",
      "data\\zip\\gd_dataset\\train\\goose directory exists.\n",
      "data\\zip\\gd_dataset\\train\\goose directory exists.\n",
      "data\\zip\\gd_dataset\\train\\goose directory exists.\n",
      "data\\zip\\gd_dataset\\train\\goose directory exists.\n",
      "data\\zip\\gd_dataset\\train\\goose directory exists.\n",
      "data\\zip\\gd_dataset\\train\\goose directory exists.\n",
      "data\\zip\\gd_dataset\\train\\goose directory exists.\n",
      "data\\zip\\gd_dataset\\train\\goose directory exists.\n",
      "data\\zip\\gd_dataset\\train\\goose directory exists.\n",
      "data\\zip\\gd_dataset\\train\\goose directory exists.\n",
      "data\\zip\\gd_dataset\\train\\goose directory exists.\n",
      "data\\zip\\gd_dataset\\train\\goose directory exists.\n",
      "data\\zip\\gd_dataset\\train\\goose directory exists.\n",
      "data\\zip\\gd_dataset\\train\\goose directory exists.\n",
      "data\\zip\\gd_dataset\\train\\goose directory exists.\n",
      "data\\zip\\gd_dataset\\train\\goose directory exists.\n",
      "data\\zip\\gd_dataset\\train\\goose directory exists.\n",
      "data\\zip\\gd_dataset\\train\\goose directory exists.\n",
      "data\\zip\\gd_dataset\\train\\goose directory exists.\n",
      "data\\zip\\gd_dataset\\train\\goose directory exists.\n",
      "data\\zip\\gd_dataset\\train\\goose directory exists.\n",
      "data\\zip\\gd_dataset\\train\\goose directory exists.\n",
      "data\\zip\\gd_dataset\\train\\goose directory exists.\n",
      "data\\zip\\gd_dataset\\train\\goose directory exists.\n",
      "data\\zip\\gd_dataset\\train\\goose directory exists.\n",
      "data\\zip\\gd_dataset\\train\\goose directory exists.\n",
      "data\\zip\\gd_dataset\\train\\goose directory exists.\n",
      "data\\zip\\gd_dataset\\train\\goose directory exists.\n",
      "data\\zip\\gd_dataset\\train\\goose directory exists.\n",
      "data\\zip\\gd_dataset\\train\\goose directory exists.\n",
      "data\\zip\\gd_dataset\\train\\goose directory exists.\n",
      "data\\zip\\gd_dataset\\train\\goose directory exists.\n",
      "data\\zip\\gd_dataset\\train\\goose directory exists.\n",
      "data\\zip\\gd_dataset\\train\\goose directory exists.\n",
      "data\\zip\\gd_dataset\\train\\goose directory exists.\n",
      "data\\zip\\gd_dataset\\train\\goose directory exists.\n",
      "data\\zip\\gd_dataset\\train\\goose directory exists.\n",
      "data\\zip\\gd_dataset\\train\\goose directory exists.\n",
      "data\\zip\\gd_dataset\\train\\goose directory exists.\n",
      "data\\zip\\gd_dataset\\train\\goose directory exists.\n",
      "data\\zip\\gd_dataset\\train\\goose directory exists.\n",
      "data\\zip\\gd_dataset\\train\\goose directory exists.\n",
      "data\\zip\\gd_dataset\\train\\goose directory exists.\n",
      "data\\zip\\gd_dataset\\train\\goose directory exists.\n",
      "data\\zip\\gd_dataset\\train\\goose directory exists.\n",
      "data\\zip\\gd_dataset\\train\\goose directory exists.\n",
      "data\\zip\\gd_dataset\\train\\goose directory exists.\n",
      "data\\zip\\gd_dataset\\train\\goose directory exists.\n",
      "data\\zip\\gd_dataset\\train\\goose directory exists.\n",
      "data\\zip\\gd_dataset\\train\\goose directory exists.\n",
      "data\\zip\\gd_dataset\\train\\goose directory exists.\n",
      "data\\zip\\gd_dataset\\train\\goose directory exists.\n",
      "data\\zip\\gd_dataset\\train\\goose directory exists.\n",
      "Did not find data\\zip\\gd_dataset\\test\\goose, creating one...\n",
      "data\\zip\\gd_dataset\\test\\goose directory exists.\n",
      "data\\zip\\gd_dataset\\test\\goose directory exists.\n",
      "data\\zip\\gd_dataset\\test\\goose directory exists.\n",
      "data\\zip\\gd_dataset\\test\\goose directory exists.\n",
      "data\\zip\\gd_dataset\\test\\goose directory exists.\n",
      "data\\zip\\gd_dataset\\test\\goose directory exists.\n",
      "data\\zip\\gd_dataset\\test\\goose directory exists.\n",
      "data\\zip\\gd_dataset\\test\\goose directory exists.\n",
      "data\\zip\\gd_dataset\\test\\goose directory exists.\n",
      "data\\zip\\gd_dataset\\test\\goose directory exists.\n",
      "data\\zip\\gd_dataset\\test\\goose directory exists.\n",
      "data\\zip\\gd_dataset\\test\\goose directory exists.\n",
      "data\\zip\\gd_dataset\\test\\goose directory exists.\n",
      "data\\zip\\gd_dataset\\test\\goose directory exists.\n",
      "data\\zip\\gd_dataset\\test\\goose directory exists.\n",
      "data\\zip\\gd_dataset\\test\\goose directory exists.\n",
      "data\\zip\\gd_dataset\\test\\goose directory exists.\n",
      "data\\zip\\gd_dataset\\test\\goose directory exists.\n",
      "data\\zip\\gd_dataset\\test\\goose directory exists.\n",
      "Zipped to: data\\zip\\gd_dataset.zip\n"
     ]
    }
   ],
   "source": [
    "from modules.uploadData import *\n",
    "from modules.getData import *\n",
    "\n",
    "zip_data(\"gd_dataset\")\n",
    "# get_data_from_github(\"goose_ducks_dataset\")"
   ]
  },
  {
   "cell_type": "code",
   "execution_count": null,
   "metadata": {},
   "outputs": [],
   "source": [
    "NUM_EPOCHS = 20\n",
    "BATCH_SIZE = 64\n",
    "HIDDEN_UNITS = 64\n",
    "LEARNING_RATE = 0.001"
   ]
  },
  {
   "cell_type": "code",
   "execution_count": 4,
   "metadata": {},
   "outputs": [],
   "source": [
    "import torchvision.transforms as transforms\n",
    "\n",
    "train_transform = transforms.Compose([\n",
    "    transforms.Resize((64, 64)),\n",
    "    transforms.RandomHorizontalFlip(),\n",
    "    transforms.RandomRotation(15),\n",
    "    transforms.ColorJitter(brightness=0.2, contrast=0.2, saturation=0.2, hue=0.1),\n",
    "    transforms.RandomAffine(degrees=10, translate=(0.1, 0.1)),\n",
    "    transforms.ToTensor(),\n",
    "    transforms.Normalize((0.5,), (0.5,))\n",
    "])\n",
    "\n",
    "test_transform = transforms.Compose([\n",
    "    transforms.Resize((64, 64)),\n",
    "    transforms.ToTensor(),\n",
    "    transforms.Normalize((0.5,), (0.5,))\n",
    "])"
   ]
  },
  {
   "cell_type": "code",
   "execution_count": 5,
   "metadata": {},
   "outputs": [],
   "source": [
    "from modules.data_setup import create_dataloaders\n",
    "train_dataloader, test_dataloader, class_names = create_dataloaders(\n",
    "    train_dir = \"data/gd_dataset/test\",\n",
    "    test_dir = \"data/gd_dataset/train\",\n",
    "    batch_size=32,\n",
    "    train_transform=train_transform,\n",
    "    test_transform=test_transform\n",
    ")"
   ]
  },
  {
   "cell_type": "code",
   "execution_count": 6,
   "metadata": {},
   "outputs": [
    {
     "data": {
      "text/plain": [
       "SimpleCNN(\n",
       "  (conv_block_1): Sequential(\n",
       "    (0): Conv2d(3, 10, kernel_size=(3, 3), stride=(1, 1), padding=(1, 1))\n",
       "    (1): ReLU()\n",
       "    (2): Conv2d(10, 10, kernel_size=(3, 3), stride=(1, 1), padding=(1, 1))\n",
       "    (3): ReLU()\n",
       "    (4): MaxPool2d(kernel_size=2, stride=2, padding=0, dilation=1, ceil_mode=False)\n",
       "  )\n",
       "  (conv_block_2): Sequential(\n",
       "    (0): Conv2d(10, 20, kernel_size=(3, 3), stride=(1, 1), padding=(1, 1))\n",
       "    (1): ReLU()\n",
       "    (2): Conv2d(20, 20, kernel_size=(3, 3), stride=(1, 1), padding=(1, 1))\n",
       "    (3): ReLU()\n",
       "    (4): MaxPool2d(kernel_size=2, stride=2, padding=0, dilation=1, ceil_mode=False)\n",
       "  )\n",
       "  (classifier): Sequential(\n",
       "    (0): Flatten(start_dim=1, end_dim=-1)\n",
       "    (1): Linear(in_features=5120, out_features=128, bias=True)\n",
       "    (2): ReLU()\n",
       "    (3): Dropout(p=0.5, inplace=False)\n",
       "    (4): Linear(in_features=128, out_features=2, bias=True)\n",
       "  )\n",
       ")"
      ]
     },
     "execution_count": 6,
     "metadata": {},
     "output_type": "execute_result"
    }
   ],
   "source": [
    "from modules.model_builder_SimpleCNN import SimpleCNN\n",
    "torch.manual_seed(42)\n",
    "model_2 = SimpleCNN(input_shape=3, \n",
    "    hidden_units=10, \n",
    "    output_shape=len(class_names)).to(device)\n",
    "\n",
    "model_2"
   ]
  },
  {
   "cell_type": "code",
   "execution_count": 7,
   "metadata": {},
   "outputs": [],
   "source": [
    "loss_fn = torch.nn.CrossEntropyLoss()\n",
    "optimizer = torch.optim.Adam(model_2.parameters(),\n",
    "                                 lr=LEARNING_RATE,\n",
    "                                 weight_decay=1e-4)"
   ]
  },
  {
   "cell_type": "code",
   "execution_count": 8,
   "metadata": {},
   "outputs": [
    {
     "name": "stderr",
     "output_type": "stream",
     "text": [
      "c:\\Users\\gabry\\AppData\\Local\\Programs\\Python\\Python313\\Lib\\site-packages\\tqdm\\auto.py:21: TqdmWarning: IProgress not found. Please update jupyter and ipywidgets. See https://ipywidgets.readthedocs.io/en/stable/user_install.html\n",
      "  from .autonotebook import tqdm as notebook_tqdm\n",
      "c:\\Users\\gabry\\AppData\\Local\\Programs\\Python\\Python313\\Lib\\site-packages\\torch\\optim\\lr_scheduler.py:62: UserWarning: The verbose parameter is deprecated. Please use get_last_lr() to access the learning rate.\n",
      "  warnings.warn(\n",
      "  0%|          | 0/20 [00:00<?, ?it/s]"
     ]
    },
    {
     "name": "stdout",
     "output_type": "stream",
     "text": [
      "torch.Size([32, 10, 32, 32])\n",
      "torch.Size([32, 20, 16, 16])\n",
      "torch.Size([32, 2])\n",
      "torch.Size([8, 10, 32, 32])\n",
      "torch.Size([8, 20, 16, 16])\n",
      "torch.Size([8, 2])\n",
      "torch.Size([32, 10, 32, 32])\n",
      "torch.Size([32, 20, 16, 16])\n",
      "torch.Size([32, 2])\n",
      "torch.Size([32, 10, 32, 32])\n",
      "torch.Size([32, 20, 16, 16])\n",
      "torch.Size([32, 2])\n",
      "torch.Size([32, 10, 32, 32])\n",
      "torch.Size([32, 20, 16, 16])\n",
      "torch.Size([32, 2])\n",
      "torch.Size([32, 10, 32, 32])\n",
      "torch.Size([32, 20, 16, 16])\n",
      "torch.Size([32, 2])\n",
      "torch.Size([32, 10, 32, 32])\n",
      "torch.Size([32, 20, 16, 16])\n",
      "torch.Size([32, 2])\n"
     ]
    },
    {
     "name": "stderr",
     "output_type": "stream",
     "text": [
      "  5%|▌         | 1/20 [00:12<03:48, 12.01s/it]"
     ]
    },
    {
     "name": "stdout",
     "output_type": "stream",
     "text": [
      "Epoch: 1  | Train Loss: 2.7673  | Train Accuracy: 0.2656  | Test Loss: 0.7264  | Test Accuracy: 0.5000\n",
      "torch.Size([32, 10, 32, 32])\n",
      "torch.Size([32, 20, 16, 16])\n",
      "torch.Size([32, 2])\n",
      "torch.Size([8, 10, 32, 32])\n",
      "torch.Size([8, 20, 16, 16])\n",
      "torch.Size([8, 2])\n",
      "torch.Size([32, 10, 32, 32])\n",
      "torch.Size([32, 20, 16, 16])\n",
      "torch.Size([32, 2])\n",
      "torch.Size([32, 10, 32, 32])\n",
      "torch.Size([32, 20, 16, 16])\n",
      "torch.Size([32, 2])\n",
      "torch.Size([32, 10, 32, 32])\n",
      "torch.Size([32, 20, 16, 16])\n",
      "torch.Size([32, 2])\n",
      "torch.Size([32, 10, 32, 32])\n",
      "torch.Size([32, 20, 16, 16])\n",
      "torch.Size([32, 2])\n",
      "torch.Size([32, 10, 32, 32])\n",
      "torch.Size([32, 20, 16, 16])\n",
      "torch.Size([32, 2])\n"
     ]
    },
    {
     "name": "stderr",
     "output_type": "stream",
     "text": [
      " 10%|█         | 2/20 [00:22<03:23, 11.30s/it]"
     ]
    },
    {
     "name": "stdout",
     "output_type": "stream",
     "text": [
      "Epoch: 2  | Train Loss: 0.8463  | Train Accuracy: 0.4531  | Test Loss: 0.7598  | Test Accuracy: 0.5000\n",
      "torch.Size([32, 10, 32, 32])\n",
      "torch.Size([32, 20, 16, 16])\n",
      "torch.Size([32, 2])\n",
      "torch.Size([8, 10, 32, 32])\n",
      "torch.Size([8, 20, 16, 16])\n",
      "torch.Size([8, 2])\n",
      "torch.Size([32, 10, 32, 32])\n",
      "torch.Size([32, 20, 16, 16])\n",
      "torch.Size([32, 2])\n",
      "torch.Size([32, 10, 32, 32])\n",
      "torch.Size([32, 20, 16, 16])\n",
      "torch.Size([32, 2])\n",
      "torch.Size([32, 10, 32, 32])\n",
      "torch.Size([32, 20, 16, 16])\n",
      "torch.Size([32, 2])\n",
      "torch.Size([32, 10, 32, 32])\n",
      "torch.Size([32, 20, 16, 16])\n",
      "torch.Size([32, 2])\n",
      "torch.Size([32, 10, 32, 32])\n",
      "torch.Size([32, 20, 16, 16])\n",
      "torch.Size([32, 2])\n"
     ]
    },
    {
     "name": "stderr",
     "output_type": "stream",
     "text": [
      " 15%|█▌        | 3/20 [00:34<03:12, 11.29s/it]"
     ]
    },
    {
     "name": "stdout",
     "output_type": "stream",
     "text": [
      "Epoch: 3  | Train Loss: 0.7679  | Train Accuracy: 0.4844  | Test Loss: 0.7041  | Test Accuracy: 0.5000\n",
      "torch.Size([32, 10, 32, 32])\n",
      "torch.Size([32, 20, 16, 16])\n",
      "torch.Size([32, 2])\n",
      "torch.Size([8, 10, 32, 32])\n",
      "torch.Size([8, 20, 16, 16])\n",
      "torch.Size([8, 2])\n",
      "torch.Size([32, 10, 32, 32])\n",
      "torch.Size([32, 20, 16, 16])\n",
      "torch.Size([32, 2])\n",
      "torch.Size([32, 10, 32, 32])\n",
      "torch.Size([32, 20, 16, 16])\n",
      "torch.Size([32, 2])\n",
      "torch.Size([32, 10, 32, 32])\n",
      "torch.Size([32, 20, 16, 16])\n",
      "torch.Size([32, 2])\n",
      "torch.Size([32, 10, 32, 32])\n",
      "torch.Size([32, 20, 16, 16])\n",
      "torch.Size([32, 2])\n",
      "torch.Size([32, 10, 32, 32])\n",
      "torch.Size([32, 20, 16, 16])\n",
      "torch.Size([32, 2])\n"
     ]
    },
    {
     "name": "stderr",
     "output_type": "stream",
     "text": [
      " 20%|██        | 4/20 [00:46<03:05, 11.61s/it]"
     ]
    },
    {
     "name": "stdout",
     "output_type": "stream",
     "text": [
      "Epoch: 4  | Train Loss: 0.6967  | Train Accuracy: 0.5938  | Test Loss: 0.6947  | Test Accuracy: 0.5000\n",
      "torch.Size([32, 10, 32, 32])\n",
      "torch.Size([32, 20, 16, 16])\n",
      "torch.Size([32, 2])\n",
      "torch.Size([8, 10, 32, 32])\n",
      "torch.Size([8, 20, 16, 16])\n",
      "torch.Size([8, 2])\n",
      "torch.Size([32, 10, 32, 32])\n",
      "torch.Size([32, 20, 16, 16])\n",
      "torch.Size([32, 2])\n",
      "torch.Size([32, 10, 32, 32])\n",
      "torch.Size([32, 20, 16, 16])\n",
      "torch.Size([32, 2])\n",
      "torch.Size([32, 10, 32, 32])\n",
      "torch.Size([32, 20, 16, 16])\n",
      "torch.Size([32, 2])\n",
      "torch.Size([32, 10, 32, 32])\n",
      "torch.Size([32, 20, 16, 16])\n",
      "torch.Size([32, 2])\n",
      "torch.Size([32, 10, 32, 32])\n",
      "torch.Size([32, 20, 16, 16])\n",
      "torch.Size([32, 2])\n"
     ]
    },
    {
     "name": "stderr",
     "output_type": "stream",
     "text": [
      " 25%|██▌       | 5/20 [00:58<03:00, 12.01s/it]"
     ]
    },
    {
     "name": "stdout",
     "output_type": "stream",
     "text": [
      "Epoch: 5  | Train Loss: 0.7070  | Train Accuracy: 0.4062  | Test Loss: 0.6935  | Test Accuracy: 0.5000\n",
      "torch.Size([32, 10, 32, 32])\n",
      "torch.Size([32, 20, 16, 16])\n",
      "torch.Size([32, 2])\n",
      "torch.Size([8, 10, 32, 32])\n",
      "torch.Size([8, 20, 16, 16])\n",
      "torch.Size([8, 2])\n",
      "torch.Size([32, 10, 32, 32])\n",
      "torch.Size([32, 20, 16, 16])\n",
      "torch.Size([32, 2])\n",
      "torch.Size([32, 10, 32, 32])\n",
      "torch.Size([32, 20, 16, 16])\n",
      "torch.Size([32, 2])\n",
      "torch.Size([32, 10, 32, 32])\n",
      "torch.Size([32, 20, 16, 16])\n",
      "torch.Size([32, 2])\n",
      "torch.Size([32, 10, 32, 32])\n",
      "torch.Size([32, 20, 16, 16])\n",
      "torch.Size([32, 2])\n",
      "torch.Size([32, 10, 32, 32])\n",
      "torch.Size([32, 20, 16, 16])\n",
      "torch.Size([32, 2])\n"
     ]
    },
    {
     "name": "stderr",
     "output_type": "stream",
     "text": [
      " 30%|███       | 6/20 [01:10<02:44, 11.78s/it]"
     ]
    },
    {
     "name": "stdout",
     "output_type": "stream",
     "text": [
      "Epoch: 6  | Train Loss: 0.6916  | Train Accuracy: 0.4688  | Test Loss: 0.6935  | Test Accuracy: 0.5000\n",
      "torch.Size([32, 10, 32, 32])\n",
      "torch.Size([32, 20, 16, 16])\n",
      "torch.Size([32, 2])\n",
      "torch.Size([8, 10, 32, 32])\n",
      "torch.Size([8, 20, 16, 16])\n",
      "torch.Size([8, 2])\n",
      "torch.Size([32, 10, 32, 32])\n",
      "torch.Size([32, 20, 16, 16])\n",
      "torch.Size([32, 2])\n",
      "torch.Size([32, 10, 32, 32])\n",
      "torch.Size([32, 20, 16, 16])\n",
      "torch.Size([32, 2])\n",
      "torch.Size([32, 10, 32, 32])\n",
      "torch.Size([32, 20, 16, 16])\n",
      "torch.Size([32, 2])\n",
      "torch.Size([32, 10, 32, 32])\n",
      "torch.Size([32, 20, 16, 16])\n",
      "torch.Size([32, 2])\n",
      "torch.Size([32, 10, 32, 32])\n",
      "torch.Size([32, 20, 16, 16])\n",
      "torch.Size([32, 2])\n"
     ]
    },
    {
     "name": "stderr",
     "output_type": "stream",
     "text": [
      " 35%|███▌      | 7/20 [01:22<02:33, 11.80s/it]"
     ]
    },
    {
     "name": "stdout",
     "output_type": "stream",
     "text": [
      "Epoch: 7  | Train Loss: 0.6950  | Train Accuracy: 0.3906  | Test Loss: 0.6934  | Test Accuracy: 0.5000\n",
      "torch.Size([32, 10, 32, 32])\n",
      "torch.Size([32, 20, 16, 16])\n",
      "torch.Size([32, 2])\n",
      "torch.Size([8, 10, 32, 32])\n",
      "torch.Size([8, 20, 16, 16])\n",
      "torch.Size([8, 2])\n",
      "torch.Size([32, 10, 32, 32])\n",
      "torch.Size([32, 20, 16, 16])\n",
      "torch.Size([32, 2])\n",
      "torch.Size([32, 10, 32, 32])\n",
      "torch.Size([32, 20, 16, 16])\n",
      "torch.Size([32, 2])\n",
      "torch.Size([32, 10, 32, 32])\n",
      "torch.Size([32, 20, 16, 16])\n",
      "torch.Size([32, 2])\n",
      "torch.Size([32, 10, 32, 32])\n",
      "torch.Size([32, 20, 16, 16])\n",
      "torch.Size([32, 2])\n",
      "torch.Size([32, 10, 32, 32])\n",
      "torch.Size([32, 20, 16, 16])\n",
      "torch.Size([32, 2])\n"
     ]
    },
    {
     "name": "stderr",
     "output_type": "stream",
     "text": [
      " 40%|████      | 8/20 [01:33<02:19, 11.65s/it]"
     ]
    },
    {
     "name": "stdout",
     "output_type": "stream",
     "text": [
      "Epoch: 8  | Train Loss: 0.6894  | Train Accuracy: 0.5938  | Test Loss: 0.6938  | Test Accuracy: 0.5000\n",
      "torch.Size([32, 10, 32, 32])\n",
      "torch.Size([32, 20, 16, 16])\n",
      "torch.Size([32, 2])\n",
      "torch.Size([8, 10, 32, 32])\n",
      "torch.Size([8, 20, 16, 16])\n",
      "torch.Size([8, 2])\n",
      "torch.Size([32, 10, 32, 32])\n",
      "torch.Size([32, 20, 16, 16])\n",
      "torch.Size([32, 2])\n",
      "torch.Size([32, 10, 32, 32])\n",
      "torch.Size([32, 20, 16, 16])\n",
      "torch.Size([32, 2])\n",
      "torch.Size([32, 10, 32, 32])\n",
      "torch.Size([32, 20, 16, 16])\n",
      "torch.Size([32, 2])\n",
      "torch.Size([32, 10, 32, 32])\n",
      "torch.Size([32, 20, 16, 16])\n",
      "torch.Size([32, 2])\n",
      "torch.Size([32, 10, 32, 32])\n",
      "torch.Size([32, 20, 16, 16])\n",
      "torch.Size([32, 2])\n"
     ]
    },
    {
     "name": "stderr",
     "output_type": "stream",
     "text": [
      " 45%|████▌     | 9/20 [01:45<02:08, 11.72s/it]"
     ]
    },
    {
     "name": "stdout",
     "output_type": "stream",
     "text": [
      "Epoch: 9  | Train Loss: 0.6953  | Train Accuracy: 0.5000  | Test Loss: 0.6938  | Test Accuracy: 0.5000\n",
      "torch.Size([32, 10, 32, 32])\n",
      "torch.Size([32, 20, 16, 16])\n",
      "torch.Size([32, 2])\n",
      "torch.Size([8, 10, 32, 32])\n",
      "torch.Size([8, 20, 16, 16])\n",
      "torch.Size([8, 2])\n",
      "torch.Size([32, 10, 32, 32])\n",
      "torch.Size([32, 20, 16, 16])\n",
      "torch.Size([32, 2])\n",
      "torch.Size([32, 10, 32, 32])\n",
      "torch.Size([32, 20, 16, 16])\n",
      "torch.Size([32, 2])\n",
      "torch.Size([32, 10, 32, 32])\n",
      "torch.Size([32, 20, 16, 16])\n",
      "torch.Size([32, 2])\n",
      "torch.Size([32, 10, 32, 32])\n",
      "torch.Size([32, 20, 16, 16])\n",
      "torch.Size([32, 2])\n",
      "torch.Size([32, 10, 32, 32])\n",
      "torch.Size([32, 20, 16, 16])\n",
      "torch.Size([32, 2])\n"
     ]
    },
    {
     "name": "stderr",
     "output_type": "stream",
     "text": [
      " 50%|█████     | 10/20 [01:58<02:02, 12.20s/it]"
     ]
    },
    {
     "name": "stdout",
     "output_type": "stream",
     "text": [
      "Epoch: 10  | Train Loss: 0.6943  | Train Accuracy: 0.5000  | Test Loss: 0.6938  | Test Accuracy: 0.5000\n",
      "torch.Size([32, 10, 32, 32])\n",
      "torch.Size([32, 20, 16, 16])\n",
      "torch.Size([32, 2])\n",
      "torch.Size([8, 10, 32, 32])\n",
      "torch.Size([8, 20, 16, 16])\n",
      "torch.Size([8, 2])\n",
      "torch.Size([32, 10, 32, 32])\n",
      "torch.Size([32, 20, 16, 16])\n",
      "torch.Size([32, 2])\n",
      "torch.Size([32, 10, 32, 32])\n",
      "torch.Size([32, 20, 16, 16])\n",
      "torch.Size([32, 2])\n",
      "torch.Size([32, 10, 32, 32])\n",
      "torch.Size([32, 20, 16, 16])\n",
      "torch.Size([32, 2])\n",
      "torch.Size([32, 10, 32, 32])\n",
      "torch.Size([32, 20, 16, 16])\n",
      "torch.Size([32, 2])\n",
      "torch.Size([32, 10, 32, 32])\n",
      "torch.Size([32, 20, 16, 16])\n",
      "torch.Size([32, 2])\n"
     ]
    },
    {
     "name": "stderr",
     "output_type": "stream",
     "text": [
      " 55%|█████▌    | 11/20 [02:10<01:48, 12.08s/it]"
     ]
    },
    {
     "name": "stdout",
     "output_type": "stream",
     "text": [
      "Epoch: 11  | Train Loss: 0.6956  | Train Accuracy: 0.5000  | Test Loss: 0.6938  | Test Accuracy: 0.5000\n",
      "torch.Size([32, 10, 32, 32])\n",
      "torch.Size([32, 20, 16, 16])\n",
      "torch.Size([32, 2])\n",
      "torch.Size([8, 10, 32, 32])\n",
      "torch.Size([8, 20, 16, 16])\n",
      "torch.Size([8, 2])\n",
      "torch.Size([32, 10, 32, 32])\n",
      "torch.Size([32, 20, 16, 16])\n",
      "torch.Size([32, 2])\n",
      "torch.Size([32, 10, 32, 32])\n",
      "torch.Size([32, 20, 16, 16])\n",
      "torch.Size([32, 2])\n",
      "torch.Size([32, 10, 32, 32])\n",
      "torch.Size([32, 20, 16, 16])\n",
      "torch.Size([32, 2])\n",
      "torch.Size([32, 10, 32, 32])\n",
      "torch.Size([32, 20, 16, 16])\n",
      "torch.Size([32, 2])\n",
      "torch.Size([32, 10, 32, 32])\n",
      "torch.Size([32, 20, 16, 16])\n",
      "torch.Size([32, 2])\n"
     ]
    },
    {
     "name": "stderr",
     "output_type": "stream",
     "text": [
      " 55%|█████▌    | 11/20 [02:21<01:55, 12.85s/it]"
     ]
    },
    {
     "name": "stdout",
     "output_type": "stream",
     "text": [
      "Epoch: 12  | Train Loss: 0.6890  | Train Accuracy: 0.5469  | Test Loss: 0.6938  | Test Accuracy: 0.5000\n",
      "Early stopping triggered!\n"
     ]
    },
    {
     "name": "stderr",
     "output_type": "stream",
     "text": [
      "\n"
     ]
    }
   ],
   "source": [
    "from modules import engine\n",
    "model_2_results = engine.train(\n",
    "        model=model_2, \n",
    "        train_dataloader=train_dataloader, \n",
    "        test_dataloader=test_dataloader, \n",
    "        optimizer=optimizer,\n",
    "        loss_fn=loss_fn, \n",
    "        epochs=NUM_EPOCHS,\n",
    "        device=device\n",
    "    )"
   ]
  },
  {
   "cell_type": "code",
   "execution_count": 9,
   "metadata": {},
   "outputs": [
    {
     "name": "stdout",
     "output_type": "stream",
     "text": [
      "Saving model to models\\model_2_SimpleCNN.pth\n"
     ]
    }
   ],
   "source": [
    "from modules.utils import save_model\n",
    "\n",
    "save_model(\n",
    "    model=model_2, \n",
    "    target_directory=\"models\", \n",
    "    model_name=\"model_2_SimpleCNN.pth\",\n",
    "    )"
   ]
  },
  {
   "cell_type": "code",
   "execution_count": 10,
   "metadata": {},
   "outputs": [
    {
     "data": {
      "image/png": "[encoded data removed]",
      "text/plain": [
       "<Figure size 1500x700 with 2 Axes>"
      ]
     },
     "metadata": {},
     "output_type": "display_data"
    }
   ],
   "source": [
    "from modules.plots import plot_loss_curves\n",
    "\n",
    "\n",
    "plot_loss_curves(model_2_results)"
   ]
  },
  {
   "cell_type": "code",
   "execution_count": 15,
   "metadata": {},
   "outputs": [
    {
     "name": "stdout",
     "output_type": "stream",
     "text": [
      "torch.Size([1, 10, 32, 32])\n",
      "torch.Size([1, 20, 16, 16])\n",
      "torch.Size([1, 2])\n"
     ]
    },
    {
     "data": {
      "image/png": "[encoded data removed]",
      "text/plain": [
       "<Figure size 640x480 with 1 Axes>"
      ]
     },
     "metadata": {},
     "output_type": "display_data"
    }
   ],
   "source": [
    "from modules.plots import pred_and_plot_image\n",
    "import torch\n",
    "\n",
    "custom_image_path = \"data/my_ducky2.jpg\"\n",
    "custom_image_transform = transforms.Compose([\n",
    "    transforms.Resize((64, 64)),\n",
    "])\n",
    "\n",
    "pred_and_plot_image(model=model_2,\n",
    "                    image_path=custom_image_path,\n",
    "                    class_names=class_names,\n",
    "                    transform=custom_image_transform,\n",
    "                    device=device)"
   ]
  }
 ],
 "metadata": {
  "kernelspec": {
   "display_name": "Python 3",
   "language": "python",
   "name": "python3"
  },
  "language_info": {
   "codemirror_mode": {
    "name": "ipython",
    "version": 3
   },
   "file_extension": ".py",
   "mimetype": "text/x-python",
   "name": "python",
   "nbconvert_exporter": "python",
   "pygments_lexer": "ipython3",
   "version": "3.13.1"
  }
 },
 "nbformat": 4,
 "nbformat_minor": 2
}
