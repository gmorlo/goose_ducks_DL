{
 "cells": [
  {
   "cell_type": "code",
   "execution_count": 3,
   "metadata": {},
   "outputs": [],
   "source": [
    "from modules.uploadData import *\n",
    "from modules.getData import *\n",
    "from modules.data_setup import create_dataloaders"
   ]
  },
  {
   "cell_type": "code",
   "execution_count": 20,
   "metadata": {},
   "outputs": [],
   "source": [
    "# zip_data(\"goose_ducks_dataset\")"
   ]
  },
  {
   "cell_type": "code",
   "execution_count": 21,
   "metadata": {},
   "outputs": [],
   "source": [
    "# get_data_from_github(\"goose_ducks_dataset\")"
   ]
  },
  {
   "cell_type": "code",
   "execution_count": 1,
   "metadata": {},
   "outputs": [],
   "source": [
    "from torchvision import transforms\n",
    "transform = transforms.Compose([\n",
    "    transforms.Resize((64, 64)),  # Skalowanie obrazów do 64x64\n",
    "    transforms.ToTensor(),  # Konwersja obrazu do tensora PyTorch\n",
    "    transforms.RandomHorizontalFlip(),  # Add horizontal flip\n",
    "    transforms.RandomRotation(10),  # Add random rotation\n",
    "])"
   ]
  },
  {
   "cell_type": "code",
   "execution_count": 4,
   "metadata": {},
   "outputs": [],
   "source": [
    "train_dataloader, test_dataloader, class_names = create_dataloaders(\n",
    "    train_dir = \"data/goose_ducks_dataset/test\",\n",
    "    test_dir = \"data/goose_ducks_dataset/train\",\n",
    "    batch_size=32,\n",
    "    transform=transform\n",
    ")"
   ]
  },
  {
   "cell_type": "code",
   "execution_count": 5,
   "metadata": {},
   "outputs": [],
   "source": [
    "import torch\n",
    "from modules import model_builder\n",
    "\n",
    "device = \"cuda\" if torch.cuda.is_available() else \"cpu\"\n",
    "\n",
    "torch.manual_seed(42)\n",
    "model = model_builder.TinyVGG(input_shape=3,\n",
    "                              hidden_units=10, \n",
    "                              output_shape=len(class_names)).to(device)"
   ]
  },
  {
   "cell_type": "code",
   "execution_count": 6,
   "metadata": {},
   "outputs": [],
   "source": [
    "loss_fn = torch.nn.CrossEntropyLoss()\n",
    "optimizer = torch.optim.Adam(model.parameters(),\n",
    "                             lr=0.001)"
   ]
  },
  {
   "cell_type": "code",
   "execution_count": 15,
   "metadata": {},
   "outputs": [
    {
     "name": "stderr",
     "output_type": "stream",
     "text": [
      " 10%|█         | 1/10 [00:09<01:23,  9.31s/it]"
     ]
    },
    {
     "name": "stdout",
     "output_type": "stream",
     "text": [
      "Epoch: 1  | Train Loss: 0.6918  | Train Accuracy: 0.4500  | Test Loss: 0.6792  | Test Accuracy: 0.7708\n"
     ]
    },
    {
     "name": "stderr",
     "output_type": "stream",
     "text": [
      " 20%|██        | 2/10 [00:18<01:13,  9.16s/it]"
     ]
    },
    {
     "name": "stdout",
     "output_type": "stream",
     "text": [
      "Epoch: 2  | Train Loss: 0.6881  | Train Accuracy: 0.5500  | Test Loss: 0.6608  | Test Accuracy: 0.7708\n"
     ]
    },
    {
     "name": "stderr",
     "output_type": "stream",
     "text": [
      " 30%|███       | 3/10 [00:27<01:03,  9.07s/it]"
     ]
    },
    {
     "name": "stdout",
     "output_type": "stream",
     "text": [
      "Epoch: 3  | Train Loss: 0.6846  | Train Accuracy: 0.5500  | Test Loss: 0.6412  | Test Accuracy: 0.7708\n"
     ]
    },
    {
     "name": "stderr",
     "output_type": "stream",
     "text": [
      " 40%|████      | 4/10 [00:36<00:54,  9.05s/it]"
     ]
    },
    {
     "name": "stdout",
     "output_type": "stream",
     "text": [
      "Epoch: 4  | Train Loss: 0.6823  | Train Accuracy: 0.5500  | Test Loss: 0.6223  | Test Accuracy: 0.7708\n"
     ]
    },
    {
     "name": "stderr",
     "output_type": "stream",
     "text": [
      " 50%|█████     | 5/10 [00:45<00:45,  9.02s/it]"
     ]
    },
    {
     "name": "stdout",
     "output_type": "stream",
     "text": [
      "Epoch: 5  | Train Loss: 0.6811  | Train Accuracy: 0.5500  | Test Loss: 0.6068  | Test Accuracy: 0.7708\n"
     ]
    },
    {
     "name": "stderr",
     "output_type": "stream",
     "text": [
      " 60%|██████    | 6/10 [00:54<00:36,  9.07s/it]"
     ]
    },
    {
     "name": "stdout",
     "output_type": "stream",
     "text": [
      "Epoch: 6  | Train Loss: 0.6808  | Train Accuracy: 0.5500  | Test Loss: 0.5977  | Test Accuracy: 0.7708\n"
     ]
    },
    {
     "name": "stderr",
     "output_type": "stream",
     "text": [
      " 70%|███████   | 7/10 [01:03<00:27,  9.04s/it]"
     ]
    },
    {
     "name": "stdout",
     "output_type": "stream",
     "text": [
      "Epoch: 7  | Train Loss: 0.6806  | Train Accuracy: 0.5500  | Test Loss: 0.5953  | Test Accuracy: 0.7708\n"
     ]
    },
    {
     "name": "stderr",
     "output_type": "stream",
     "text": [
      " 80%|████████  | 8/10 [01:12<00:18,  9.04s/it]"
     ]
    },
    {
     "name": "stdout",
     "output_type": "stream",
     "text": [
      "Epoch: 8  | Train Loss: 0.6795  | Train Accuracy: 0.5500  | Test Loss: 0.5983  | Test Accuracy: 0.7708\n"
     ]
    },
    {
     "name": "stderr",
     "output_type": "stream",
     "text": [
      " 90%|█████████ | 9/10 [01:21<00:09,  9.02s/it]"
     ]
    },
    {
     "name": "stdout",
     "output_type": "stream",
     "text": [
      "Epoch: 9  | Train Loss: 0.6767  | Train Accuracy: 0.5500  | Test Loss: 0.6046  | Test Accuracy: 0.7708\n"
     ]
    },
    {
     "name": "stderr",
     "output_type": "stream",
     "text": [
      "100%|██████████| 10/10 [01:30<00:00,  9.05s/it]"
     ]
    },
    {
     "name": "stdout",
     "output_type": "stream",
     "text": [
      "Epoch: 10  | Train Loss: 0.6736  | Train Accuracy: 0.5500  | Test Loss: 0.6125  | Test Accuracy: 0.7708\n"
     ]
    },
    {
     "name": "stderr",
     "output_type": "stream",
     "text": [
      "\n"
     ]
    },
    {
     "data": {
      "text/plain": [
       "{'train_loss': [0.6918157339096069,\n",
       "  0.6881283521652222,\n",
       "  0.6845664381980896,\n",
       "  0.6823102235794067,\n",
       "  0.6810921430587769,\n",
       "  0.6808117628097534,\n",
       "  0.680557906627655,\n",
       "  0.6795014142990112,\n",
       "  0.6767256259918213,\n",
       "  0.673552393913269],\n",
       " 'train_accuracy': [0.45,\n",
       "  0.55,\n",
       "  0.55,\n",
       "  0.55,\n",
       "  0.55,\n",
       "  0.55,\n",
       "  0.55,\n",
       "  0.55,\n",
       "  0.55,\n",
       "  0.55],\n",
       " 'test_loss': [0.6791561643282572,\n",
       "  0.6608231663703918,\n",
       "  0.6412237286567688,\n",
       "  0.6223295132319132,\n",
       "  0.6067568262418112,\n",
       "  0.5977322061856588,\n",
       "  0.5952737132708231,\n",
       "  0.5982956886291504,\n",
       "  0.6045602560043335,\n",
       "  0.6125095089276632],\n",
       " 'test_accuracy': [0.7708333333333334,\n",
       "  0.7708333333333334,\n",
       "  0.7708333333333334,\n",
       "  0.7708333333333334,\n",
       "  0.7708333333333334,\n",
       "  0.7708333333333334,\n",
       "  0.7708333333333334,\n",
       "  0.7708333333333334,\n",
       "  0.7708333333333334,\n",
       "  0.7708333333333334]}"
      ]
     },
     "execution_count": 15,
     "metadata": {},
     "output_type": "execute_result"
    }
   ],
   "source": [
    "from modules.engine import train\n",
    "\n",
    "train(\n",
    "    model=model, \n",
    "    train_dataloader=train_dataloader, \n",
    "    test_dataloader=test_dataloader, \n",
    "    optimizer=optimizer,\n",
    "    loss_fn=loss_fn, \n",
    "    epochs=10,\n",
    "    device=device)"
   ]
  },
  {
   "cell_type": "code",
   "execution_count": null,
   "metadata": {},
   "outputs": [
    {
     "name": "stdout",
     "output_type": "stream",
     "text": [
      "Saving model to models\\goose_ducks_model_SGDoptim_10Epoch.pth\n"
     ]
    }
   ],
   "source": [
    "from modules.utils import save_model\n",
    "\n",
    "save_model(\n",
    "    model=model, \n",
    "    target_directory=\"models\", \n",
    "    model_name=\"goose_ducks_model_Adam_10Epoch.pth\",\n",
    "    )"
   ]
  },
  {
   "cell_type": "code",
   "execution_count": null,
   "metadata": {},
   "outputs": [],
   "source": [
    "import torch\n",
    "from typing import Dict\n",
    "\n",
    "def eval_model(\n",
    "    model: torch.nn.Module,\n",
    "    data_loader: torch.utils.data.DataLoader,\n",
    "    loss_fn: torch.nn.Module,\n",
    "    accuracy_fn\n",
    ") -> Dict[str, float]:\n",
    "    model.eval()\n",
    "    loss, accuracy = 0, 0\n",
    "\n",
    "    with torch.inference_mode():\n",
    "        for X, y in data_loader:\n",
    "            X, y = X.to(device), y.to(device)\n",
    "            y_pred = model(X)\n",
    "            loss += loss_fn(y_pred, y).item()\n",
    "            accuracy += accuracy_fn(y_pred, y)\n",
    "\n",
    "    loss /= len(data_loader)\n",
    "    accuracy /= len(data_loader)\n",
    "    return {\"loss\": loss, \"accuracy\": accuracy}"
   ]
  },
  {
   "cell_type": "code",
   "execution_count": 26,
   "metadata": {},
   "outputs": [
    {
     "ename": "AttributeError",
     "evalue": "module 'modules.engine' has no attribute 'eval_model'",
     "output_type": "error",
     "traceback": [
      "\u001b[1;31m---------------------------------------------------------------------------\u001b[0m",
      "\u001b[1;31mAttributeError\u001b[0m                            Traceback (most recent call last)",
      "Cell \u001b[1;32mIn[26], line 18\u001b[0m\n\u001b[0;32m     15\u001b[0m model\u001b[38;5;241m.\u001b[39mload_state_dict(torch\u001b[38;5;241m.\u001b[39mload(model_path))\n\u001b[0;32m     17\u001b[0m \u001b[38;5;66;03m# Evaluate the loaded model\u001b[39;00m\n\u001b[1;32m---> 18\u001b[0m loaded_model_results \u001b[38;5;241m=\u001b[39m \u001b[43mengine\u001b[49m\u001b[38;5;241;43m.\u001b[39;49m\u001b[43meval_model\u001b[49m(\n\u001b[0;32m     19\u001b[0m     model\u001b[38;5;241m=\u001b[39mmodel,\n\u001b[0;32m     20\u001b[0m     data_loader\u001b[38;5;241m=\u001b[39mtest_dataloader,\n\u001b[0;32m     21\u001b[0m     loss_fn\u001b[38;5;241m=\u001b[39mloss_fn, \n\u001b[0;32m     22\u001b[0m     accuracy_fn\u001b[38;5;241m=\u001b[39maccuracy_fn\n\u001b[0;32m     23\u001b[0m )\n\u001b[0;32m     25\u001b[0m \u001b[38;5;66;03m# Print the evaluation results\u001b[39;00m\n\u001b[0;32m     26\u001b[0m \u001b[38;5;28mprint\u001b[39m(loaded_model_results)\n",
      "\u001b[1;31mAttributeError\u001b[0m: module 'modules.engine' has no attribute 'eval_model'"
     ]
    }
   ],
   "source": [
    "from modules.plots import plot_loss_curves\n",
    "import torch\n",
    "from modules import model_builder, utils, engine\n",
    "\n",
    "device = \"cuda\" if torch.cuda.is_available() else \"cpu\"\n",
    "\n",
    "# Load the saved model\n",
    "model_path = \"models/goose_ducks_model_01.pth\"\n",
    "torch.manual_seed(42)\n",
    "\n",
    "# Create an instance of the model\n",
    "model = model_builder.TinyVGG(input_shape=3, hidden_units=10, output_shape=len(class_names)).to(device)\n",
    "\n",
    "# Load the state dictionary into the model\n",
    "model.load_state_dict(torch.load(model_path))\n",
    "\n",
    "# Evaluate the loaded model\n",
    "loaded_model_results = engine.eval_model(\n",
    "    model=model,\n",
    "    data_loader=test_dataloader,\n",
    "    loss_fn=loss_fn, \n",
    "    accuracy_fn=accuracy_fn\n",
    ")\n",
    "\n",
    "# Print the evaluation results\n",
    "print(loaded_model_results)\n",
    "\n",
    "# Assuming you have saved the training history in a file\n",
    "with open(\"models/training_history.pkl\", \"rb\") as f:\n",
    "    history = pickle.load(f)\n",
    "\n",
    "# Plot the loss curves\n",
    "plot_loss_curves(history)"
   ]
  },
  {
   "cell_type": "code",
   "execution_count": null,
   "metadata": {},
   "outputs": [
    {
     "data": {
      "image/png": "[encoded data removed]",
      "text/plain": [
       "<Figure size 640x480 with 1 Axes>"
      ]
     },
     "metadata": {},
     "output_type": "display_data"
    }
   ],
   "source": [
    "from modules.plots import pred_and_plot_image\n",
    "import torch\n",
    "from modules import model_builder\n",
    "\n",
    "device = \"cuda\" if torch.cuda.is_available() else \"cpu\"\n",
    "\n",
    "model_path = \"models/goose_ducks_model_SGDoptim_10Epoch.pth\"\n",
    "torch.manual_seed(42)\n",
    "\n",
    "model = model_builder.TinyVGG(input_shape=3,\n",
    "                              hidden_units=20, \n",
    "                              output_shape=len(class_names)).to(device)\n",
    "model.load_state_dict(torch.load(model_path))\n",
    "\n",
    "custom_image_transform = transforms.Compose([\n",
    "    transforms.Resize((64, 64)),\n",
    "])\n",
    "custom_image_path = \"data/my_ducky.jpg\"\n",
    "\n",
    "pred_and_plot_image(model=model,\n",
    "                    image_path=custom_image_path,\n",
    "                    class_names=class_names,\n",
    "                    transform=custom_image_transform,\n",
    "                    device=device)"
   ]
  },
  {
   "cell_type": "code",
   "execution_count": 20,
   "metadata": {},
   "outputs": [
    {
     "data": {
      "image/png": "[encoded data removed]",
      "text/plain": [
       "<Figure size 640x480 with 1 Axes>"
      ]
     },
     "metadata": {},
     "output_type": "display_data"
    }
   ],
   "source": [
    "from modules.plots import pred_and_plot_image\n",
    "import torch\n",
    "from modules import model_builder\n",
    "\n",
    "custom_image_path = \"data/my_ducky2.jpg\"\n",
    "custom_image_transform = transforms.Compose([\n",
    "    transforms.Resize((64, 64)),\n",
    "])\n",
    "\n",
    "pred_and_plot_image(model=model,\n",
    "                    image_path=custom_image_path,\n",
    "                    class_names=class_names,\n",
    "                    transform=custom_image_transform,\n",
    "                    device=device)"
   ]
  },
  {
   "cell_type": "code",
   "execution_count": null,
   "metadata": {},
   "outputs": [],
   "source": [
    "from modules.train import train_model\n",
    "\n",
    "\n"
   ]
  },
  {
   "cell_type": "code",
   "execution_count": 22,
   "metadata": {},
   "outputs": [
    {
     "ename": "SyntaxError",
     "evalue": "invalid syntax (3458882724.py, line 1)",
     "output_type": "error",
     "traceback": [
      "\u001b[1;36m  Cell \u001b[1;32mIn[22], line 1\u001b[1;36m\u001b[0m\n\u001b[1;33m    python train.py\u001b[0m\n\u001b[1;37m           ^\u001b[0m\n\u001b[1;31mSyntaxError\u001b[0m\u001b[1;31m:\u001b[0m invalid syntax\n"
     ]
    }
   ],
   "source": [
    "python train.py"
   ]
  }
 ],
 "metadata": {
  "kernelspec": {
   "display_name": "Python 3",
   "language": "python",
   "name": "python3"
  },
  "language_info": {
   "codemirror_mode": {
    "name": "ipython",
    "version": 3
   },
   "file_extension": ".py",
   "mimetype": "text/x-python",
   "name": "python",
   "nbconvert_exporter": "python",
   "pygments_lexer": "ipython3",
   "version": "3.13.1"
  }
 },
 "nbformat": 4,
 "nbformat_minor": 2
}
